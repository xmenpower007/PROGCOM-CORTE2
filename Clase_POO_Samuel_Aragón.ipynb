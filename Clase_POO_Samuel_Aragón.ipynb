{
  "nbformat": 4,
  "nbformat_minor": 0,
  "metadata": {
    "colab": {
      "provenance": []
    },
    "kernelspec": {
      "name": "python3",
      "display_name": "Python 3"
    },
    "language_info": {
      "name": "python"
    }
  },
  "cells": [
    {
      "cell_type": "markdown",
      "source": [
        "#POO o Progamación Orientada a Objetos\n",
        "Clase es comoun molde\n",
        "* Variables--> Atributos\n",
        "* Funciones --> métodos\n",
        "* Constructor --> Constituye una clase\n",
        "* Objetos: Comparten atributos, métodos. realciones, tienen una identidad propia"
      ],
      "metadata": {
        "id": "xN1vlLI1DgfO"
      }
    },
    {
      "cell_type": "code",
      "source": [
        "class Mascotas():\n",
        "  pass"
      ],
      "metadata": {
        "id": "VJ33Q6CJBdFq"
      },
      "execution_count": 1,
      "outputs": []
    },
    {
      "cell_type": "code",
      "source": [
        "a=Mascotas\n",
        "b=Mascotas"
      ],
      "metadata": {
        "id": "ULMFOsANBcd7"
      },
      "execution_count": 2,
      "outputs": []
    },
    {
      "cell_type": "code",
      "source": [
        "if a==b:\n",
        "  print(\"Son igualitos\")\n",
        "else:\n",
        "  print(\"No son igualitos\")"
      ],
      "metadata": {
        "colab": {
          "base_uri": "https://localhost:8080/"
        },
        "id": "phrQCeFxGPTn",
        "outputId": "9f830e33-d5e9-479a-e676-eb42428fb545"
      },
      "execution_count": 3,
      "outputs": [
        {
          "output_type": "stream",
          "name": "stdout",
          "text": [
            "Son igualitos\n"
          ]
        }
      ]
    },
    {
      "cell_type": "code",
      "source": [
        "class Empleado():\n",
        "  #Construyendo un constructor\n",
        "  def __init__(self,nombre,edad,id,salario):\n",
        "    self.nombre=nombre\n",
        "    self.edad=edad\n",
        "    self.id=id\n",
        "    self.salario=salario\n",
        "\n",
        "  def __repr__(self):\n",
        "    return f\"nombre:{self.nombre},edad:{self.nombre},id:{self.id},salario:{self.salario}\""
      ],
      "metadata": {
        "id": "Mq__yq-lGxkA"
      },
      "execution_count": 4,
      "outputs": []
    },
    {
      "cell_type": "code",
      "source": [
        "sonia=Empleado(\"Sonia\",25,\"U00152314\",10000000)"
      ],
      "metadata": {
        "id": "FtpPPYsTHdzr"
      },
      "execution_count": 5,
      "outputs": []
    },
    {
      "cell_type": "code",
      "source": [
        "print(sonia)"
      ],
      "metadata": {
        "colab": {
          "base_uri": "https://localhost:8080/"
        },
        "id": "dx8Ducn8Kh08",
        "outputId": "9d758a34-61e6-4887-c1c1-b0462fa2d08b"
      },
      "execution_count": 6,
      "outputs": [
        {
          "output_type": "stream",
          "name": "stdout",
          "text": [
            "nombre:Sonia,edad:Sonia,id:U00152314,salario:10000000\n"
          ]
        }
      ]
    },
    {
      "cell_type": "code",
      "source": [
        "sonia.nombre"
      ],
      "metadata": {
        "colab": {
          "base_uri": "https://localhost:8080/",
          "height": 35
        },
        "id": "VnoubYzTH2oy",
        "outputId": "e5fb4a08-ef62-425c-9648-c52930d5a2c0"
      },
      "execution_count": 25,
      "outputs": [
        {
          "output_type": "execute_result",
          "data": {
            "text/plain": [
              "'Sonia'"
            ],
            "application/vnd.google.colaboratory.intrinsic+json": {
              "type": "string"
            }
          },
          "metadata": {},
          "execution_count": 25
        }
      ]
    },
    {
      "cell_type": "code",
      "source": [
        "madaniel=Empleado(\"Pirulais\",83,\"U001512345\",1000000)"
      ],
      "metadata": {
        "id": "C31vRa46IYnz"
      },
      "execution_count": 7,
      "outputs": []
    },
    {
      "cell_type": "code",
      "source": [
        "if sonia.salario==madaniel.salario:\n",
        "  print(f\"El salario de {madaniel.nombre} y {sonia.nombre} son iguales\")\n",
        "elif sonia.salario>madaniel.salario:\n",
        "   print(f\"El salario de {madaniel.nombre} es menor al de {sonia.nombre} \")\n",
        "else:\n",
        "   print(f\"El salario de {madaniel.nombre} es mayor al de {sonia.nombre}\")"
      ],
      "metadata": {
        "colab": {
          "base_uri": "https://localhost:8080/"
        },
        "id": "Txyh6pjiNyNX",
        "outputId": "d44df0dd-dfd6-43b2-8fac-0bb47d55cc1b"
      },
      "execution_count": 11,
      "outputs": [
        {
          "output_type": "stream",
          "name": "stdout",
          "text": [
            "El salario de Pirulais es menor al de Sonia \n"
          ]
        }
      ]
    },
    {
      "cell_type": "code",
      "source": [
        "class Fraccion():\n",
        "  #Atributos de clase\n",
        "  num=0\n",
        "  den=1\n",
        "\n",
        "  #Creando el constructor\n",
        "\n",
        "  def __init__(self,num=0,den=1):\n",
        "    self.num=num\n",
        "    self.den=den\n",
        "\n",
        "  def multiplica(self,b):\n",
        "    num=self.num*b.num\n",
        "    den=self.den*b.den\n",
        "    r=Fraccion(num,den)\n",
        "    return r\n",
        "  def imprime(self):\n",
        "    print(self.num,\"/\",self.den)\n",
        "    "
      ],
      "metadata": {
        "id": "AvC5AVM2Ov9J"
      },
      "execution_count": 42,
      "outputs": []
    },
    {
      "cell_type": "code",
      "source": [
        "#Creando objetos tipo Fracción\n",
        "a1=Fraccion(4,5)\n",
        "a2=Fraccion(8,9)"
      ],
      "metadata": {
        "id": "x0w3gfEvRTQ1"
      },
      "execution_count": 44,
      "outputs": []
    },
    {
      "cell_type": "code",
      "source": [
        "a1.imprime()\n",
        "a2.imprime()\n"
      ],
      "metadata": {
        "colab": {
          "base_uri": "https://localhost:8080/"
        },
        "id": "22D6FZl6Rg2E",
        "outputId": "e45843b4-1c26-47be-a1f0-ddb90d99b682"
      },
      "execution_count": 45,
      "outputs": [
        {
          "output_type": "stream",
          "name": "stdout",
          "text": [
            "4 / 5\n",
            "8 / 9\n"
          ]
        }
      ]
    },
    {
      "cell_type": "code",
      "source": [
        "c=a1.multiplica(a2)\n",
        "c.imprime()"
      ],
      "metadata": {
        "colab": {
          "base_uri": "https://localhost:8080/"
        },
        "id": "zulQPPYDSTt_",
        "outputId": "a487948e-97e1-4cab-ed3b-8df26a2a1489"
      },
      "execution_count": 47,
      "outputs": [
        {
          "output_type": "stream",
          "name": "stdout",
          "text": [
            "32 / 45\n"
          ]
        }
      ]
    }
  ]
}