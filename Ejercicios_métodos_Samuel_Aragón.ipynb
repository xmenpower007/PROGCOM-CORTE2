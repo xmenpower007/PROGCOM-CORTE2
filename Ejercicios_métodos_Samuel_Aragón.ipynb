{
  "nbformat": 4,
  "nbformat_minor": 0,
  "metadata": {
    "colab": {
      "provenance": []
    },
    "kernelspec": {
      "name": "python3",
      "display_name": "Python 3"
    },
    "language_info": {
      "name": "python"
    }
  },
  "cells": [
    {
      "cell_type": "markdown",
      "source": [
        "Ejercicios de funciones :')"
      ],
      "metadata": {
        "id": "XD8bwMYOh1te"
      }
    },
    {
      "cell_type": "code",
      "execution_count": 35,
      "metadata": {
        "colab": {
          "base_uri": "https://localhost:8080/"
        },
        "id": "qHF0Yw90h0GU",
        "outputId": "75195134-d08c-4b0e-ffab-6f5d208c6675"
      },
      "outputs": [
        {
          "output_type": "execute_result",
          "data": {
            "text/plain": [
              "5"
            ]
          },
          "metadata": {},
          "execution_count": 35
        }
      ],
      "source": [
        "#Ejercicio 1\n",
        "def npc(a,b):\n",
        "  if a>b:\n",
        "    return a\n",
        "  else:\n",
        "    return b\n",
        "npc(4,5)"
      ]
    },
    {
      "cell_type": "code",
      "source": [
        "#Ejercicio 2\n",
        "def mayor(x,y,z):\n",
        "  npc()"
      ],
      "metadata": {
        "id": "PtzfbDicnq2i"
      },
      "execution_count": 36,
      "outputs": []
    },
    {
      "cell_type": "code",
      "source": [
        "print(mayor(4,5,6))"
      ],
      "metadata": {
        "colab": {
          "base_uri": "https://localhost:8080/"
        },
        "id": "g14x2DuCn9SX",
        "outputId": "c4a57a74-065f-4736-8cc4-6510aa126f07"
      },
      "execution_count": 33,
      "outputs": [
        {
          "output_type": "stream",
          "name": "stdout",
          "text": [
            "None\n"
          ]
        }
      ]
    },
    {
      "cell_type": "code",
      "source": [
        "#Ejercicio 3\n",
        "lista=[4,5,6]\n",
        "suma=sum(lista)\n",
        "\n",
        "print(suma)"
      ],
      "metadata": {
        "colab": {
          "base_uri": "https://localhost:8080/"
        },
        "id": "nRfjK1L-q3HU",
        "outputId": "5d7c19b7-5ad5-4ca0-fe66-ff5e70d43273"
      },
      "execution_count": 38,
      "outputs": [
        {
          "output_type": "stream",
          "name": "stdout",
          "text": [
            "15\n"
          ]
        }
      ]
    },
    {
      "cell_type": "code",
      "source": [
        "#Ejercicio 4\n",
        "lista2=[4,5,6,7]\n",
        "sumita=sum(lista2)\n",
        "print(sumita)"
      ],
      "metadata": {
        "colab": {
          "base_uri": "https://localhost:8080/"
        },
        "id": "-naS1kS7rvNb",
        "outputId": "e330e5ed-3cf4-4143-9e81-793ccecf9338"
      },
      "execution_count": 40,
      "outputs": [
        {
          "output_type": "stream",
          "name": "stdout",
          "text": [
            "22\n"
          ]
        }
      ]
    },
    {
      "cell_type": "code",
      "source": [
        "#Ejercicio 5\n",
        "ejercicio=[4,5,6,7,8,12,12134,5643]\n",
        "resultado=sum(ejercicio)\n",
        "print(resultado)"
      ],
      "metadata": {
        "colab": {
          "base_uri": "https://localhost:8080/"
        },
        "id": "xqTxwZcZr8IT",
        "outputId": "4a6159ee-fdfc-469e-f80b-1ade736ece4b"
      },
      "execution_count": 41,
      "outputs": [
        {
          "output_type": "stream",
          "name": "stdout",
          "text": [
            "17819\n"
          ]
        }
      ]
    },
    {
      "cell_type": "code",
      "source": [
        "#Ejercicio 6\n",
        "def lista3(n):\n",
        "  resultado2=1\n",
        "  for x in n :\n",
        "    resultado2=resultado2 * x\n",
        "\n",
        "  return resultado2\n",
        "\n",
        "ejemplito=[1,2,-3]\n",
        "print(lista3(ejemplito))"
      ],
      "metadata": {
        "colab": {
          "base_uri": "https://localhost:8080/"
        },
        "id": "3D7AewcRtGtj",
        "outputId": "dcbf47e1-c103-474a-f750-83179c5fd424"
      },
      "execution_count": 46,
      "outputs": [
        {
          "output_type": "stream",
          "name": "stdout",
          "text": [
            "-6\n"
          ]
        }
      ]
    },
    {
      "cell_type": "code",
      "source": [
        "#Ejercicio 7\n",
        "def lista4(n):\n",
        "  resultado2=1\n",
        "  for x in n :\n",
        "    resultado2=resultado2 * x\n",
        "\n",
        "  return resultado2\n",
        "\n",
        "ejemplito2=[1,2,-3,75]\n",
        "print(lista4(ejemplito2))"
      ],
      "metadata": {
        "colab": {
          "base_uri": "https://localhost:8080/"
        },
        "id": "uHBGtCrGu9LO",
        "outputId": "181eb81b-1b11-4296-891b-41860077e806"
      },
      "execution_count": 47,
      "outputs": [
        {
          "output_type": "stream",
          "name": "stdout",
          "text": [
            "-450\n"
          ]
        }
      ]
    },
    {
      "cell_type": "code",
      "source": [
        "#Ejercicio 8\n",
        "def lista4(n):\n",
        "  resultado2=1\n",
        "  for x in n :\n",
        "    resultado2=resultado2 * x\n",
        "\n",
        "  return resultado2\n",
        "\n",
        "ejemplito=[1,2,-3,5,6,-8]\n",
        "print(lista4(ejemplito))"
      ],
      "metadata": {
        "colab": {
          "base_uri": "https://localhost:8080/"
        },
        "id": "lPXT9PwLvIvS",
        "outputId": "2c979194-c8cb-4f44-81fd-9b16553ada76"
      },
      "execution_count": 48,
      "outputs": [
        {
          "output_type": "stream",
          "name": "stdout",
          "text": [
            "1440\n"
          ]
        }
      ]
    },
    {
      "cell_type": "code",
      "source": [
        "#Ejercicio 9\n",
        "a=str(\"Supercalifragilisticoespidialidoso\")\n",
        "Hola=len(a)\n",
        "Hola=a[Hola::-1]\n",
        "print(Hola)"
      ],
      "metadata": {
        "colab": {
          "base_uri": "https://localhost:8080/"
        },
        "id": "dKJuSXXnvei-",
        "outputId": "32b6abc7-b5a8-4951-e96b-b2a41f692610"
      },
      "execution_count": 61,
      "outputs": [
        {
          "output_type": "stream",
          "name": "stdout",
          "text": [
            "osodilaidipseocitsiligarfilacrepuS\n"
          ]
        }
      ]
    },
    {
      "cell_type": "code",
      "source": [
        "#Ejercicio 10\n",
        "from math import factorial\n",
        "print(factorial(5))"
      ],
      "metadata": {
        "colab": {
          "base_uri": "https://localhost:8080/"
        },
        "id": "3AXwui6-xNsO",
        "outputId": "ad8891a8-8d81-4711-f956-2ebfad99c484"
      },
      "execution_count": 55,
      "outputs": [
        {
          "output_type": "stream",
          "name": "stdout",
          "text": [
            "120\n"
          ]
        }
      ]
    },
    {
      "cell_type": "code",
      "source": [
        "#Ejercicio 11\n",
        "x=int(input(\"Ingrese el valor máximo: \"))\n",
        "y=int(input(\"Ingrese el valor mínimo: \"))\n",
        "n=int(input(\"Ingrese un número: \"))\n",
        "\n",
        "if n in range(y,x): # si n está en el rango 5 - 10*\n",
        "    print(\"El número está dentro del rango\")\n",
        "else:\n",
        "    print(\"Lo siento no está en el rango :'(\")"
      ],
      "metadata": {
        "colab": {
          "base_uri": "https://localhost:8080/"
        },
        "id": "vkKVOT_z1z0H",
        "outputId": "f8ad8926-134e-4876-d85b-ab4c3e997ec5"
      },
      "execution_count": 75,
      "outputs": [
        {
          "output_type": "stream",
          "name": "stdout",
          "text": [
            "Ingrese el valor máximo: 100\n",
            "Ingrese el valor mínimo: 0\n",
            "Ingrese un número: -1\n",
            "Lo siento no está en el rango :'(\n"
          ]
        }
      ]
    },
    {
      "cell_type": "code",
      "source": [
        "#Ejercicio 12\n",
        "a = input(\"Ingrese palabra: \")\n",
        "b=0\n",
        "mayusculas=0\n",
        "minusculas=0\n",
        "while b < len(a):\n",
        "  letra = a[b]\n",
        "  if letra.isupper() == True:\n",
        "    mayusculas +=1\n",
        "  else:\n",
        "    minusculas +=1\n",
        "  b += 1\n",
        "print(\"Total mayúsculas: \" , mayusculas)\n",
        "print(\"Total minúsculas: \" , minusculas)"
      ],
      "metadata": {
        "colab": {
          "base_uri": "https://localhost:8080/"
        },
        "id": "DAaIRxMs2po7",
        "outputId": "d1f027d5-3d3d-45ea-b220-ee46c39a0d4a"
      },
      "execution_count": 78,
      "outputs": [
        {
          "output_type": "stream",
          "name": "stdout",
          "text": [
            "Ingrese palabra: Samuel David Aragón Osorio\n",
            "Total mayúsculas:  4\n",
            "Total minúsculas:  22\n"
          ]
        }
      ]
    },
    {
      "cell_type": "code",
      "source": [
        "#Ejercicio 13\n",
        "\n",
        "def definido():\n",
        " x = input(\"Ingrese palabra: \")\n",
        " b=0\n",
        " d={\"mayusculas\":0,\"minusculas\":0}\n",
        "\n",
        " while b < len(x):\n",
        "   letra = x[b]\n",
        "   if letra.isupper() == True:\n",
        "     d[\"mayusculas\"] +=1\n",
        "   else:\n",
        "     d[\"minusculas\"] +=1\n",
        "   b += 1\n",
        " print(\"Total mayúsculas: \" , d[\"mayusculas\"] )\n",
        " print(\"Total minúsculas: \" , d[\"minusculas\"])\n",
        " \n",
        "definido()\n"
      ],
      "metadata": {
        "colab": {
          "base_uri": "https://localhost:8080/"
        },
        "id": "XyJMo3Nq3pbp",
        "outputId": "6f657a5b-dd63-42cd-9040-825545df56fe"
      },
      "execution_count": 99,
      "outputs": [
        {
          "output_type": "stream",
          "name": "stdout",
          "text": [
            "Ingrese palabra: Samuel\n",
            "Total mayúsculas:  1\n",
            "Total minúsculas:  5\n"
          ]
        }
      ]
    },
    {
      "cell_type": "code",
      "source": [
        "#Ejercicio 14\n",
        "def pares(num):\n",
        "  nump=[]\n",
        "  for i in num:\n",
        "    if i%2==0:\n",
        "      nump.append(i)\n",
        "  return nump\n",
        "\n",
        "numeros=[2,3,4,5,6,7,8,9,10]\n",
        "\n",
        "rstdo=pares(numeros)\n",
        "print(numeros)\n",
        "print(rstdo)"
      ],
      "metadata": {
        "colab": {
          "base_uri": "https://localhost:8080/"
        },
        "id": "zAs-13Oz7wTG",
        "outputId": "b069b3d4-60b5-4236-bb6b-7a1dacd731c6"
      },
      "execution_count": 104,
      "outputs": [
        {
          "output_type": "stream",
          "name": "stdout",
          "text": [
            "[2, 3, 4, 5, 6, 7, 8, 9, 10]\n",
            "[2, 4, 6, 8, 10]\n"
          ]
        }
      ]
    },
    {
      "cell_type": "code",
      "source": [
        "#Ejercicio 15\n",
        "NUM= list(range(0,11))\n",
        "\n",
        "for i in range(1,len(NUM),2):\n",
        "  print(NUM[i])\n"
      ],
      "metadata": {
        "colab": {
          "base_uri": "https://localhost:8080/"
        },
        "id": "fCKzvxkU-dn_",
        "outputId": "cb9011db-8147-4573-f1f2-42d6188698ca"
      },
      "execution_count": 1,
      "outputs": [
        {
          "output_type": "stream",
          "name": "stdout",
          "text": [
            "1\n",
            "3\n",
            "5\n",
            "7\n",
            "9\n"
          ]
        }
      ]
    }
  ]
}