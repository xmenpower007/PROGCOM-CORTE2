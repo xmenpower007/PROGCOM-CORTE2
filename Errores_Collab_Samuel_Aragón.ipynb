{
  "nbformat": 4,
  "nbformat_minor": 0,
  "metadata": {
    "colab": {
      "provenance": []
    },
    "kernelspec": {
      "name": "python3",
      "display_name": "Python 3"
    },
    "language_info": {
      "name": "python"
    }
  },
  "cells": [
    {
      "cell_type": "markdown",
      "source": [
        "1. Error al guardar información pasada y no permite llamar alguna variable, o arroja error, luego, se debe desconectar el entorno de ejecución...\n",
        "2. NO poder graficar o identificar algún tipo de librería importada\n",
        "3. No se puede ejercutar sin conexión.\n",
        "4. Pérdida de información en caso de algún fallo con la red o apagón.\n",
        "5. Contenido compartido puedes ser modificado al mismo tiempo, es decir, alguno podría alterar el programa mientras están todos allí...\n",
        "6. Necesario tener una GPU de google para programar.\n",
        "7.  Alojar archivos, servir contenido multimedia u ofrecer otros servicios web que no estén relacionados con la computación interactiva de Colab\n",
        "8. Descargar torrents o compartir archivos de punto a punto\n",
        "9. Usar un escritorio remoto o SSH\n",
        "10. Conectarse a proxies remotos\n",
        "11. Minar criptomonedas\n",
        "12. Ejecutar ataques de denegación de servicio\n",
        "13. Craquear contraseñas\n",
        "14. Usar varias cuentas para eludir las restricciones de acceso o de uso de recursos\n",
        "15. Crear ultrafalsos\n",
        "16. No se ejecutan algunos entornos de programación.\n",
        "17. Cuota de almacenamiento limitada\n",
        "18. Las operaciones de Google Drive pueden agotar el tiempo de espera cuando el número de archivos o subcarpetas de una carpeta se vuelve demasiado grande, sin superar el límite necesariamente.\n",
        "19. Número máximo de operaciones por usuario y por archivo, y cuotas de ancho de banda.\n",
        "20. Colab necesita tener flexibilidad para ajustar dinámicamente los límites de uso y la disponibilidad de hardware.\n",
        "\n",
        "fuente:\n",
        "\n",
        "*   https://research.google.com/colaboratory/intl/es/faq.html#:~:text=No%20se%20permite%20hacer%20lo,un%20escritorio%20remoto%20o%20SSH\n",
        "\n",
        "\n"
      ],
      "metadata": {
        "id": "vYkjAcMzB_Zu"
      }
    },
    {
      "cell_type": "code",
      "source": [],
      "metadata": {
        "id": "c2zlAMPIo_I_"
      },
      "execution_count": null,
      "outputs": []
    }
  ]
}