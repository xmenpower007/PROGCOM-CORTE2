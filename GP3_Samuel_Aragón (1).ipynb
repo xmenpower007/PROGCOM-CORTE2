{
  "nbformat": 4,
  "nbformat_minor": 0,
  "metadata": {
    "colab": {
      "provenance": []
    },
    "kernelspec": {
      "name": "python3",
      "display_name": "Python 3"
    },
    "language_info": {
      "name": "python"
    }
  },
  "cells": [
    {
      "cell_type": "code",
      "execution_count": null,
      "metadata": {
        "id": "WQEPqH6b79XS"
      },
      "outputs": [],
      "source": [
        "from tkinter import *\n",
        "from tkinter import ttk\n",
        "\n",
        "class Interfaz:\n",
        "\n",
        "\tdef __init__(self,ventana):\n",
        "\t\tself.ventana = ventana\n",
        "\t\tself.productos = (\"Galletas-$10\",\"Jugo-$8\",\"Gomitas-$9\",\"Agua-$7\",\"Chocolate-$5\",\"Donas-$11\",\"Gaseosa-$11\",\"Papas-$6\",\"Helados-$4\",\"Speedmax-$9\")\n",
        "\t\tself.cajaCantidad = IntVar()\n",
        "\t\tself.cajaTotal = IntVar()\n",
        "\t\tself.total = 0\n",
        "\t\tself.dibujarComponentes()\n",
        "\n",
        "\tdef dibujarComponentes(self):\n",
        "\t\tself.ventana.title(\"PROGCOM-A\")\n",
        "\t\tself.ventana.geometry(\"650x450\")\n",
        "\t\tLabel(self.ventana,text=\"Selecciona tu producto: \").place(x=10,y=10)\n",
        "\t\tLabel(self.ventana,text=\"Seleciona la cantidad: \").place(x=10,y=60)\n",
        "\t\tLabel(self.ventana,text=\"El total es: \").place(x=450,y=400)\n",
        "\t\tself.combo = ttk.Combobox(self.ventana,state=\"readonly\")\n",
        "\t\tself.combo.place(x=10,y=35)\n",
        "\t\tself.combo[\"values\"]=self.productos\n",
        "\t\tself.combo.current(0)\n",
        "\t\tEntry(self.ventana,textvariable=self.cajaCantidad).place(x=10,y=85)\n",
        "\t\tEntry(self.ventana,textvariable=self.cajaTotal).place(x=520,y=400)\n",
        "\t\tButton(self.ventana,text=\"Agregar\",command=self.agregarProducto).place(x=10,y=110)\n",
        "\n",
        "\t\tself.tabla = ttk.Treeview(self.ventana,columns=(\"Cantidad\",\"Subtotal\"))\n",
        "\t\tself.tabla.heading(\"#0\",text=\"Producto\")\n",
        "\t\tself.tabla.heading(\"Cantidad\",text=\"Cantidad\")\n",
        "\t\tself.tabla.heading(\"Subtotal\",text=\"Subtotal\")\n",
        "\t\tself.tabla.place(x=10,y=150)\n",
        "\n",
        "\tdef agregarProducto(self):\n",
        "\t\ttexto = self.combo.get()\n",
        "\t\t#   Galletas-$10   [0] = Galletas   [1] = 10    \n",
        "\t\tdatos = texto.split(\"-$\")\n",
        "\t\tproducto = datos[0]\n",
        "\t\tprecio = datos[1]\n",
        "\t\tcantidad = self.cajaCantidad.get()\n",
        "\t\tsubtotal = int(precio)*int(cantidad)\n",
        "\t\tself.tabla.insert(\"\",END,text=producto,values=(cantidad,\"$\"+str(subtotal)))\n",
        "\t\tself.total = self.total + subtotal\n",
        "\t\tself.cajaTotal.set(\"$\"+str(self.total))\n",
        "\n",
        "obj = Interfaz(Tk())\n",
        "obj.ventana.mainloop()"
      ]
    }
  ]
}