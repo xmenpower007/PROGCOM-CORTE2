{
  "nbformat": 4,
  "nbformat_minor": 0,
  "metadata": {
    "colab": {
      "provenance": []
    },
    "kernelspec": {
      "name": "python3",
      "display_name": "Python 3"
    },
    "language_info": {
      "name": "python"
    }
  },
  "cells": [
    {
      "cell_type": "markdown",
      "source": [
        "##Tipos de funciones:\n",
        "\n",
        "\n",
        "1. Si parámetros, sin retorno\n",
        "\n",
        "  def manuel():\n",
        "    print(\"Tome su 5\")\n",
        "\n",
        "2. Sin parámetros, con retorno:\n",
        "\n",
        "  def nicolas():\n",
        "    print(\"Hola Nicolás\")\n",
        "    a=5\n",
        "    return a\n",
        "\n",
        "3. Con parámetro, sin retorno:\n",
        "\n",
        "  def holitas(a,\"b\",x=False):\n",
        "    int a\n",
        "    b=string\n",
        "    x=boolean\n",
        "    print(\"Hola Nicolás\")\n",
        "    \n",
        "    a=5\n",
        "\n",
        "4. Con parámetro, con retorno:\n",
        "\n",
        "def holitas(a,\"b\",x=False):\n",
        "    int a\n",
        "    b=string\n",
        "    x=boolean\n",
        "    print(\"Hola Nicolás\")\n",
        "    \n",
        "    a=5\n",
        "\n",
        "    return a"
      ],
      "metadata": {
        "id": "_AZszWcKJr6F"
      }
    },
    {
      "cell_type": "code",
      "source": [
        "def comparar(a,b,c):\n",
        "  if a!=b and a!=c and b!=c:\n",
        "    if a>b and a>c:\n",
        "      if b>c:\n",
        "       imprimir(a,b,c)\n",
        "      else:\n",
        "        imprimir(a,c,b)\n",
        "    elif b>a and b>c:\n",
        "      if a>c:\n",
        "        imprimir(b,a,c)\n",
        "      else:\n",
        "        imprimir(b,c,a)\n",
        "      if c>a and c>b:\n",
        "        if a>b:\n",
        "          imprimir(c,a,b)\n",
        "      else:\n",
        "         imprimir(c,b,a)\n",
        "  else:\n",
        "    print(\"No se puede hacer el cálculo\")"
      ],
      "metadata": {
        "id": "_Y-3dCcyG6P9"
      },
      "execution_count": 1,
      "outputs": []
    },
    {
      "cell_type": "code",
      "source": [
        "def imprimir(a,b,c):\n",
        "   print(a,\"es el valor mayor\")\n",
        "   print(b,\"es el valor medio\")\n",
        "   print(c,\"es el valor menor\")"
      ],
      "metadata": {
        "id": "JdFs5UL5G6er"
      },
      "execution_count": 2,
      "outputs": []
    },
    {
      "cell_type": "code",
      "execution_count": 9,
      "metadata": {
        "id": "qOnq7gxRGX1w"
      },
      "outputs": [],
      "source": [
        "def comparar(a,b,c):\n",
        "  if a!=b and a!=c and b!=c:\n",
        "    if a>b and a>c:\n",
        "     if b>c:\n",
        "       imprimir(a,b,c)\n",
        "     else:\n",
        "        imprimir(a,c,b)\n",
        "    elif b>a and b>c:\n",
        "      if a>c:\n",
        "       imprimir(b,a,c)\n",
        "      else:\n",
        "       imprimir(b,c,a)\n",
        "    if c>a and c>b:\n",
        "      if a>b:\n",
        "       imprimir(c,a,b)\n",
        "      else:\n",
        "       imprimir(c,b,a)\n",
        "  else:\n",
        "   print(\"No se puede hacer el cálculo\")"
      ]
    },
    {
      "cell_type": "code",
      "source": [
        "a=int(input(\"Ingrese un número \"))\n",
        "b=int(input(\"Ingrese un número \"))\n",
        "c=int(input(\"Ingrese un número \"))\n",
        "\n",
        "comparar(a,b,c)"
      ],
      "metadata": {
        "colab": {
          "base_uri": "https://localhost:8080/"
        },
        "id": "G_xK5d6tHhzL",
        "outputId": "9dfb7f46-da25-4696-aec3-23028c49f66c"
      },
      "execution_count": 11,
      "outputs": [
        {
          "output_type": "stream",
          "name": "stdout",
          "text": [
            "Ingrese un número 4\n",
            "Ingrese un número 5\n",
            "Ingrese un número 6\n",
            "6 es el valor mayor\n",
            "5 es el valor medio\n",
            "4 es el valor menor\n"
          ]
        }
      ]
    }
  ]
}