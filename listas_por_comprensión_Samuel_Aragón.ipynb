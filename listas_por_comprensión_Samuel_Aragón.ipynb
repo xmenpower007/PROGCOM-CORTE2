{
  "nbformat": 4,
  "nbformat_minor": 0,
  "metadata": {
    "colab": {
      "provenance": []
    },
    "kernelspec": {
      "name": "python3",
      "display_name": "Python 3"
    },
    "language_info": {
      "name": "python"
    }
  },
  "cells": [
    {
      "cell_type": "markdown",
      "source": [
        "#Lista por coprensión:\n",
        "sintaxis:newList=[expresión(elemento) for elemento 'n' in old List si condición]"
      ],
      "metadata": {
        "id": "muY5TZZS9zcR"
      }
    },
    {
      "cell_type": "code",
      "source": [
        "numeros=[n*2 for n in range(1,9)]\n",
        "print(numeros)"
      ],
      "metadata": {
        "colab": {
          "base_uri": "https://localhost:8080/"
        },
        "id": "2uuV_xmD9yMx",
        "outputId": "58a1c27a-5154-4b5a-8a1c-6072e75e33f6"
      },
      "execution_count": 1,
      "outputs": [
        {
          "output_type": "stream",
          "name": "stdout",
          "text": [
            "[2, 4, 6, 8, 10, 12, 14, 16]\n"
          ]
        }
      ]
    },
    {
      "cell_type": "code",
      "source": [
        "#Ejercicio Samuelito\n",
        "X=input(\"Ingrese palabra: \")\n",
        "lista = [n for n in X]\n",
        "print(lista)"
      ],
      "metadata": {
        "colab": {
          "base_uri": "https://localhost:8080/"
        },
        "id": "IVQVOUWFrFeQ",
        "outputId": "da8e5298-9234-4a59-e04c-5fda79eadf55"
      },
      "execution_count": 4,
      "outputs": [
        {
          "output_type": "stream",
          "name": "stdout",
          "text": [
            "Ingrese palabra: asdasd\n",
            "['a', 's', 'd', 'a', 's', 'd']\n"
          ]
        }
      ]
    },
    {
      "cell_type": "code",
      "source": [
        "numero=[2,5,6,9,10]\n",
        "cuadrados=[n**2 for n in numero]"
      ],
      "metadata": {
        "id": "08hWwHfFAqDa"
      },
      "execution_count": null,
      "outputs": []
    },
    {
      "cell_type": "code",
      "source": [
        "#Ejemplos\n",
        "cadenas=[\"*\" * n  for n in range (1,6)]\n",
        "print(cadenas)"
      ],
      "metadata": {
        "colab": {
          "base_uri": "https://localhost:8080/"
        },
        "id": "-bRbUNyvA1AK",
        "outputId": "90ae3a9c-d0b7-4149-a781-7272033f65d4"
      },
      "execution_count": 19,
      "outputs": [
        {
          "output_type": "stream",
          "name": "stdout",
          "text": [
            "['*\\n', '*\\n*\\n', '*\\n*\\n*\\n', '*\\n*\\n*\\n*\\n', '*\\n*\\n*\\n*\\n*\\n']\n"
          ]
        }
      ]
    },
    {
      "cell_type": "code",
      "source": [
        "#ejercicio 2 Daniel amado\n",
        "lista1=[2,7,10,9,8]\n",
        "lista2=[elementos**2 for elementos in lista1 if elementos%2==0] \n",
        "print(\"nueva lista\",lista2) #Se imprimen números pares."
      ],
      "metadata": {
        "colab": {
          "base_uri": "https://localhost:8080/"
        },
        "id": "tXVhgoR4C5eP",
        "outputId": "98ab16bb-6f6c-4437-f0a5-995e3dcb2be5"
      },
      "execution_count": 21,
      "outputs": [
        {
          "output_type": "stream",
          "name": "stdout",
          "text": [
            "nueva lista [4, 100, 64]\n"
          ]
        }
      ]
    },
    {
      "cell_type": "code",
      "source": [
        "#Ejercicio 3 Ivan\n",
        "import random\n",
        "capitan=[random.randrange(1,30) for i in range (9)] #randrange = Rango donde se va a generar la lsita aleatoria.\n",
        "print(\"Imprimir números aleatorios de la lista: \", str(capitan))"
      ],
      "metadata": {
        "colab": {
          "base_uri": "https://localhost:8080/"
        },
        "id": "uQC9S_QjEC2E",
        "outputId": "32e442a7-9ee2-4379-b37d-669f14ed3d2b"
      },
      "execution_count": 27,
      "outputs": [
        {
          "output_type": "stream",
          "name": "stdout",
          "text": [
            "Imprimir números aleatorios de la lista:  [6, 28, 16, 23, 23, 14, 22, 23, 6]\n"
          ]
        }
      ]
    },
    {
      "cell_type": "code",
      "source": [
        "#Ejercicio 4 Juan Pablo\n",
        "precios=[]\n",
        "print(\"Ingrese los números de los que quieres hacer un descuento: \")\n",
        "det= True\n",
        "while det:\n",
        "  num=int(input(\"Si no desea agregar más números digite 0: \"))\n",
        "  precios.append(num)\n",
        "  det= False if num ==0 else num>0\n",
        "des=float(input(\"Ingrese el descuento sin el %\"))\n",
        "presdes=[precio*des/100 for precio in precios]\n",
        "presdes.pop(-1) #pop para no tomar un valor determinado de una lista\n",
        "print(\"Este es el valor que le dees restar a cada número\", presdes)"
      ],
      "metadata": {
        "colab": {
          "base_uri": "https://localhost:8080/"
        },
        "id": "0TRcQ_RvEwUp",
        "outputId": "39a38a1a-c1ea-4610-8f87-a0fc9f1a936e"
      },
      "execution_count": 32,
      "outputs": [
        {
          "output_type": "stream",
          "name": "stdout",
          "text": [
            "Ingrese los números de los que quieres hacer un descuento: \n",
            "Si no desea agregar más números digite 0: 45\n",
            "Si no desea agregar más números digite 0: 15\n",
            "Si no desea agregar más números digite 0: 98797987\n",
            "Si no desea agregar más números digite 0: 0\n",
            "Ingrese el descuento sin el %25.6\n",
            "Este es el valor que le dees restar a cada número [11.52, 3.84, 25292284.672000002]\n"
          ]
        }
      ]
    },
    {
      "cell_type": "code",
      "source": [
        "#Ejercicio 5 Cristian\n",
        "num = []\n",
        "for i in range(6):\n",
        "  num.append(int(input(\"Introduce el número ganador: \")))\n",
        "num.sort()\n",
        "print(\"Los números ganadores del baloto son: \" + str(num))"
      ],
      "metadata": {
        "colab": {
          "base_uri": "https://localhost:8080/"
        },
        "id": "6u_mdSZaHOS9",
        "outputId": "ccb2ad15-f45a-450c-eb72-92dc5f2359ad"
      },
      "execution_count": 33,
      "outputs": [
        {
          "output_type": "stream",
          "name": "stdout",
          "text": [
            "Introduce el número ganador: 04\n",
            "Introduce el número ganador: 5\n",
            "Introduce el número ganador: 10\n",
            "Introduce el número ganador: 56\n",
            "Introduce el número ganador: 54\n",
            "Introduce el número ganador: 45\n",
            "Los números ganadores del baloto son: [4, 5, 10, 45, 54, 56]\n"
          ]
        }
      ]
    },
    {
      "cell_type": "code",
      "source": [
        "#Intento de hacerlo con lista pr comprensión\n",
        "num=[num.sort() for i in range(6)]\n",
        "num.append(int(input(\"Ingrese el número ganador\")))\n",
        "print(\"Los números gandores son: \" + str(num))"
      ],
      "metadata": {
        "colab": {
          "base_uri": "https://localhost:8080/",
          "height": 287
        },
        "id": "N8G7DldzIi7I",
        "outputId": "e5154b86-6fda-4910-b211-de2021e00927"
      },
      "execution_count": 38,
      "outputs": [
        {
          "output_type": "error",
          "ename": "TypeError",
          "evalue": "ignored",
          "traceback": [
            "\u001b[0;31m---------------------------------------------------------------------------\u001b[0m",
            "\u001b[0;31mTypeError\u001b[0m                                 Traceback (most recent call last)",
            "\u001b[0;32m<ipython-input-38-083027353611>\u001b[0m in \u001b[0;36m<module>\u001b[0;34m\u001b[0m\n\u001b[0;32m----> 1\u001b[0;31m \u001b[0mnum\u001b[0m\u001b[0;34m=\u001b[0m\u001b[0;34m[\u001b[0m\u001b[0mnum\u001b[0m\u001b[0;34m.\u001b[0m\u001b[0msort\u001b[0m\u001b[0;34m(\u001b[0m\u001b[0;34m)\u001b[0m \u001b[0;32mfor\u001b[0m \u001b[0mi\u001b[0m \u001b[0;32min\u001b[0m \u001b[0mrange\u001b[0m\u001b[0;34m(\u001b[0m\u001b[0;36m6\u001b[0m\u001b[0;34m)\u001b[0m\u001b[0;34m]\u001b[0m\u001b[0;34m\u001b[0m\u001b[0;34m\u001b[0m\u001b[0m\n\u001b[0m\u001b[1;32m      2\u001b[0m \u001b[0mnum\u001b[0m\u001b[0;34m.\u001b[0m\u001b[0mappend\u001b[0m\u001b[0;34m(\u001b[0m\u001b[0mint\u001b[0m\u001b[0;34m(\u001b[0m\u001b[0minput\u001b[0m\u001b[0;34m(\u001b[0m\u001b[0;34m\"Ingrese el número ganador\"\u001b[0m\u001b[0;34m)\u001b[0m\u001b[0;34m)\u001b[0m\u001b[0;34m)\u001b[0m\u001b[0;34m\u001b[0m\u001b[0;34m\u001b[0m\u001b[0m\n\u001b[1;32m      3\u001b[0m \u001b[0mprint\u001b[0m\u001b[0;34m(\u001b[0m\u001b[0;34m\"Los números gandores son: \"\u001b[0m \u001b[0;34m+\u001b[0m \u001b[0mstr\u001b[0m\u001b[0;34m(\u001b[0m\u001b[0mnum\u001b[0m\u001b[0;34m)\u001b[0m\u001b[0;34m)\u001b[0m\u001b[0;34m\u001b[0m\u001b[0;34m\u001b[0m\u001b[0m\n",
            "\u001b[0;32m<ipython-input-38-083027353611>\u001b[0m in \u001b[0;36m<listcomp>\u001b[0;34m(.0)\u001b[0m\n\u001b[0;32m----> 1\u001b[0;31m \u001b[0mnum\u001b[0m\u001b[0;34m=\u001b[0m\u001b[0;34m[\u001b[0m\u001b[0mnum\u001b[0m\u001b[0;34m.\u001b[0m\u001b[0msort\u001b[0m\u001b[0;34m(\u001b[0m\u001b[0;34m)\u001b[0m \u001b[0;32mfor\u001b[0m \u001b[0mi\u001b[0m \u001b[0;32min\u001b[0m \u001b[0mrange\u001b[0m\u001b[0;34m(\u001b[0m\u001b[0;36m6\u001b[0m\u001b[0;34m)\u001b[0m\u001b[0;34m]\u001b[0m\u001b[0;34m\u001b[0m\u001b[0;34m\u001b[0m\u001b[0m\n\u001b[0m\u001b[1;32m      2\u001b[0m \u001b[0mnum\u001b[0m\u001b[0;34m.\u001b[0m\u001b[0mappend\u001b[0m\u001b[0;34m(\u001b[0m\u001b[0mint\u001b[0m\u001b[0;34m(\u001b[0m\u001b[0minput\u001b[0m\u001b[0;34m(\u001b[0m\u001b[0;34m\"Ingrese el número ganador\"\u001b[0m\u001b[0;34m)\u001b[0m\u001b[0;34m)\u001b[0m\u001b[0;34m)\u001b[0m\u001b[0;34m\u001b[0m\u001b[0;34m\u001b[0m\u001b[0m\n\u001b[1;32m      3\u001b[0m \u001b[0mprint\u001b[0m\u001b[0;34m(\u001b[0m\u001b[0;34m\"Los números gandores son: \"\u001b[0m \u001b[0;34m+\u001b[0m \u001b[0mstr\u001b[0m\u001b[0;34m(\u001b[0m\u001b[0mnum\u001b[0m\u001b[0;34m)\u001b[0m\u001b[0;34m)\u001b[0m\u001b[0;34m\u001b[0m\u001b[0;34m\u001b[0m\u001b[0m\n",
            "\u001b[0;31mTypeError\u001b[0m: '<' not supported between instances of 'NoneType' and 'NoneType'"
          ]
        }
      ]
    },
    {
      "cell_type": "code",
      "source": [],
      "metadata": {
        "id": "T1m6JBSpJM99"
      },
      "execution_count": null,
      "outputs": []
    },
    {
      "cell_type": "code",
      "source": [],
      "metadata": {
        "colab": {
          "base_uri": "https://localhost:8080/"
        },
        "id": "gln86qS7t1B8",
        "outputId": "216c716b-7966-428b-c928-c321ae68b14e"
      },
      "execution_count": null,
      "outputs": [
        {
          "name": "stdout",
          "output_type": "stream",
          "text": [
            "Ingrese el número máximo en el rango: 987654321\n"
          ]
        }
      ]
    }
  ]
}