{
  "nbformat": 4,
  "nbformat_minor": 0,
  "metadata": {
    "colab": {
      "provenance": []
    },
    "kernelspec": {
      "name": "python3",
      "display_name": "Python 3"
    },
    "language_info": {
      "name": "python"
    }
  },
  "cells": [
    {
      "cell_type": "markdown",
      "source": [
        "#Lista por coprensión:\n",
        "sintaxis:newList=[expresión(elemento) for elemento 'n' in old List si condición]"
      ],
      "metadata": {
        "id": "muY5TZZS9zcR"
      }
    },
    {
      "cell_type": "code",
      "source": [
        "numeros=[n*2 for n in range(1,9)]\n",
        "print(numeros)"
      ],
      "metadata": {
        "colab": {
          "base_uri": "https://localhost:8080/"
        },
        "id": "2uuV_xmD9yMx",
        "outputId": "58a1c27a-5154-4b5a-8a1c-6072e75e33f6"
      },
      "execution_count": null,
      "outputs": [
        {
          "output_type": "stream",
          "name": "stdout",
          "text": [
            "[2, 4, 6, 8, 10, 12, 14, 16]\n"
          ]
        }
      ]
    },
    {
      "cell_type": "code",
      "source": [
        "#Ejercicio Samuelito\n",
        "X=input(\"Ingrese palabra: \")\n",
        "lista = [n for n in X]\n",
        "print(lista)"
      ],
      "metadata": {
        "colab": {
          "base_uri": "https://localhost:8080/"
        },
        "id": "IVQVOUWFrFeQ",
        "outputId": "da8e5298-9234-4a59-e04c-5fda79eadf55"
      },
      "execution_count": null,
      "outputs": [
        {
          "output_type": "stream",
          "name": "stdout",
          "text": [
            "Ingrese palabra: asdasd\n",
            "['a', 's', 'd', 'a', 's', 'd']\n"
          ]
        }
      ]
    },
    {
      "cell_type": "code",
      "source": [
        "numero=[2,5,6,9,10]\n",
        "cuadrados=[n**2 for n in numero]"
      ],
      "metadata": {
        "id": "08hWwHfFAqDa"
      },
      "execution_count": null,
      "outputs": []
    },
    {
      "cell_type": "code",
      "source": [
        "#Ejemplos\n",
        "cadenas=[\"*\" * n  for n in range (1,6)]\n",
        "print(cadenas)"
      ],
      "metadata": {
        "colab": {
          "base_uri": "https://localhost:8080/"
        },
        "id": "-bRbUNyvA1AK",
        "outputId": "90ae3a9c-d0b7-4149-a781-7272033f65d4"
      },
      "execution_count": null,
      "outputs": [
        {
          "output_type": "stream",
          "name": "stdout",
          "text": [
            "['*\\n', '*\\n*\\n', '*\\n*\\n*\\n', '*\\n*\\n*\\n*\\n', '*\\n*\\n*\\n*\\n*\\n']\n"
          ]
        }
      ]
    },
    {
      "cell_type": "code",
      "source": [
        "#ejercicio 2 Daniel amado\n",
        "lista1=[2,7,10,9,8]\n",
        "lista2=[elementos**2 for elementos in lista1 if elementos%2==0] \n",
        "print(\"nueva lista\",lista2) #Se imprimen números pares."
      ],
      "metadata": {
        "colab": {
          "base_uri": "https://localhost:8080/"
        },
        "id": "tXVhgoR4C5eP",
        "outputId": "98ab16bb-6f6c-4437-f0a5-995e3dcb2be5"
      },
      "execution_count": null,
      "outputs": [
        {
          "output_type": "stream",
          "name": "stdout",
          "text": [
            "nueva lista [4, 100, 64]\n"
          ]
        }
      ]
    },
    {
      "cell_type": "code",
      "source": [
        "#Ejercicio 3 Ivan\n",
        "import random\n",
        "capitan=[random.randrange(1,30) for i in range (9)] #randrange = Rango donde se va a generar la lsita aleatoria.\n",
        "print(\"Imprimir números aleatorios de la lista: \", str(capitan))"
      ],
      "metadata": {
        "colab": {
          "base_uri": "https://localhost:8080/"
        },
        "id": "uQC9S_QjEC2E",
        "outputId": "32e442a7-9ee2-4379-b37d-669f14ed3d2b"
      },
      "execution_count": null,
      "outputs": [
        {
          "output_type": "stream",
          "name": "stdout",
          "text": [
            "Imprimir números aleatorios de la lista:  [6, 28, 16, 23, 23, 14, 22, 23, 6]\n"
          ]
        }
      ]
    },
    {
      "cell_type": "code",
      "source": [
        "#Ejercicio 4 Juan Pablo\n",
        "precios=[]\n",
        "print(\"Ingrese los números de los que quieres hacer un descuento: \")\n",
        "det= True\n",
        "while det:\n",
        "  num=int(input(\"Si no desea agregar más números digite 0: \"))\n",
        "  precios.append(num)\n",
        "  det= False if num ==0 else num>0\n",
        "des=float(input(\"Ingrese el descuento sin el %\"))\n",
        "presdes=[precio*des/100 for precio in precios]\n",
        "presdes.pop(-1) #pop para no tomar un valor determinado de una lista\n",
        "print(\"Este es el valor que le dees restar a cada número\", presdes)"
      ],
      "metadata": {
        "colab": {
          "base_uri": "https://localhost:8080/"
        },
        "id": "0TRcQ_RvEwUp",
        "outputId": "39a38a1a-c1ea-4610-8f87-a0fc9f1a936e"
      },
      "execution_count": null,
      "outputs": [
        {
          "output_type": "stream",
          "name": "stdout",
          "text": [
            "Ingrese los números de los que quieres hacer un descuento: \n",
            "Si no desea agregar más números digite 0: 45\n",
            "Si no desea agregar más números digite 0: 15\n",
            "Si no desea agregar más números digite 0: 98797987\n",
            "Si no desea agregar más números digite 0: 0\n",
            "Ingrese el descuento sin el %25.6\n",
            "Este es el valor que le dees restar a cada número [11.52, 3.84, 25292284.672000002]\n"
          ]
        }
      ]
    },
    {
      "cell_type": "code",
      "source": [
        "#Ejercicio 5 Cristian\n",
        "num = []\n",
        "for i in range(6):\n",
        "  num.append(int(input(\"Introduce el número ganador: \")))\n",
        "num.sort()\n",
        "print(\"Los números ganadores del baloto son: \" + str(num))"
      ],
      "metadata": {
        "colab": {
          "base_uri": "https://localhost:8080/"
        },
        "id": "6u_mdSZaHOS9",
        "outputId": "ccb2ad15-f45a-450c-eb72-92dc5f2359ad"
      },
      "execution_count": null,
      "outputs": [
        {
          "output_type": "stream",
          "name": "stdout",
          "text": [
            "Introduce el número ganador: 04\n",
            "Introduce el número ganador: 5\n",
            "Introduce el número ganador: 10\n",
            "Introduce el número ganador: 56\n",
            "Introduce el número ganador: 54\n",
            "Introduce el número ganador: 45\n",
            "Los números ganadores del baloto son: [4, 5, 10, 45, 54, 56]\n"
          ]
        }
      ]
    },
    {
      "cell_type": "code",
      "source": [
        "#Intento de hacerlo con lista pr comprensión\n",
        "num=[num.sort() for i in range(6)]\n",
        "num.append(int(input(\"Ingrese el número ganador\")))\n",
        "print(\"Los números gandores son: \" + str(num))"
      ],
      "metadata": {
        "colab": {
          "base_uri": "https://localhost:8080/",
          "height": 287
        },
        "id": "N8G7DldzIi7I",
        "outputId": "e5154b86-6fda-4910-b211-de2021e00927"
      },
      "execution_count": null,
      "outputs": [
        {
          "output_type": "error",
          "ename": "TypeError",
          "evalue": "ignored",
          "traceback": [
            "\u001b[0;31m---------------------------------------------------------------------------\u001b[0m",
            "\u001b[0;31mTypeError\u001b[0m                                 Traceback (most recent call last)",
            "\u001b[0;32m<ipython-input-38-083027353611>\u001b[0m in \u001b[0;36m<module>\u001b[0;34m\u001b[0m\n\u001b[0;32m----> 1\u001b[0;31m \u001b[0mnum\u001b[0m\u001b[0;34m=\u001b[0m\u001b[0;34m[\u001b[0m\u001b[0mnum\u001b[0m\u001b[0;34m.\u001b[0m\u001b[0msort\u001b[0m\u001b[0;34m(\u001b[0m\u001b[0;34m)\u001b[0m \u001b[0;32mfor\u001b[0m \u001b[0mi\u001b[0m \u001b[0;32min\u001b[0m \u001b[0mrange\u001b[0m\u001b[0;34m(\u001b[0m\u001b[0;36m6\u001b[0m\u001b[0;34m)\u001b[0m\u001b[0;34m]\u001b[0m\u001b[0;34m\u001b[0m\u001b[0;34m\u001b[0m\u001b[0m\n\u001b[0m\u001b[1;32m      2\u001b[0m \u001b[0mnum\u001b[0m\u001b[0;34m.\u001b[0m\u001b[0mappend\u001b[0m\u001b[0;34m(\u001b[0m\u001b[0mint\u001b[0m\u001b[0;34m(\u001b[0m\u001b[0minput\u001b[0m\u001b[0;34m(\u001b[0m\u001b[0;34m\"Ingrese el número ganador\"\u001b[0m\u001b[0;34m)\u001b[0m\u001b[0;34m)\u001b[0m\u001b[0;34m)\u001b[0m\u001b[0;34m\u001b[0m\u001b[0;34m\u001b[0m\u001b[0m\n\u001b[1;32m      3\u001b[0m \u001b[0mprint\u001b[0m\u001b[0;34m(\u001b[0m\u001b[0;34m\"Los números gandores son: \"\u001b[0m \u001b[0;34m+\u001b[0m \u001b[0mstr\u001b[0m\u001b[0;34m(\u001b[0m\u001b[0mnum\u001b[0m\u001b[0;34m)\u001b[0m\u001b[0;34m)\u001b[0m\u001b[0;34m\u001b[0m\u001b[0;34m\u001b[0m\u001b[0m\n",
            "\u001b[0;32m<ipython-input-38-083027353611>\u001b[0m in \u001b[0;36m<listcomp>\u001b[0;34m(.0)\u001b[0m\n\u001b[0;32m----> 1\u001b[0;31m \u001b[0mnum\u001b[0m\u001b[0;34m=\u001b[0m\u001b[0;34m[\u001b[0m\u001b[0mnum\u001b[0m\u001b[0;34m.\u001b[0m\u001b[0msort\u001b[0m\u001b[0;34m(\u001b[0m\u001b[0;34m)\u001b[0m \u001b[0;32mfor\u001b[0m \u001b[0mi\u001b[0m \u001b[0;32min\u001b[0m \u001b[0mrange\u001b[0m\u001b[0;34m(\u001b[0m\u001b[0;36m6\u001b[0m\u001b[0;34m)\u001b[0m\u001b[0;34m]\u001b[0m\u001b[0;34m\u001b[0m\u001b[0;34m\u001b[0m\u001b[0m\n\u001b[0m\u001b[1;32m      2\u001b[0m \u001b[0mnum\u001b[0m\u001b[0;34m.\u001b[0m\u001b[0mappend\u001b[0m\u001b[0;34m(\u001b[0m\u001b[0mint\u001b[0m\u001b[0;34m(\u001b[0m\u001b[0minput\u001b[0m\u001b[0;34m(\u001b[0m\u001b[0;34m\"Ingrese el número ganador\"\u001b[0m\u001b[0;34m)\u001b[0m\u001b[0;34m)\u001b[0m\u001b[0;34m)\u001b[0m\u001b[0;34m\u001b[0m\u001b[0;34m\u001b[0m\u001b[0m\n\u001b[1;32m      3\u001b[0m \u001b[0mprint\u001b[0m\u001b[0;34m(\u001b[0m\u001b[0;34m\"Los números gandores son: \"\u001b[0m \u001b[0;34m+\u001b[0m \u001b[0mstr\u001b[0m\u001b[0;34m(\u001b[0m\u001b[0mnum\u001b[0m\u001b[0;34m)\u001b[0m\u001b[0;34m)\u001b[0m\u001b[0;34m\u001b[0m\u001b[0;34m\u001b[0m\u001b[0m\n",
            "\u001b[0;31mTypeError\u001b[0m: '<' not supported between instances of 'NoneType' and 'NoneType'"
          ]
        }
      ]
    },
    {
      "cell_type": "code",
      "source": [
        "#Ejercicio 6 julito\n",
        "a=\"out\"\n",
        "n=int(input(\"Ingresa el número de palabras que vas a ingresar: \"))\n",
        "lista1=[]\n",
        "lista=[]\n",
        "for i in range(n):\n",
        "  l=input(\"Ingresa la palabra: \")\n",
        "  lista.append(l)\n",
        "\n",
        "lista_comprimida_M=[elemento for elemento in lista if elemento.isupper()]\n",
        "lista_comprimida_m=[elemento for elemento in lista if elemento.islower()]\n",
        "\n",
        "print(\"Las palabras escritas en mayúscula son: \")\n",
        "print(lista_comprimida_M)\n",
        "print(\"Las palabras escritas en minúscula son: \")\n",
        "print(lista_comprimida_m)"
      ],
      "metadata": {
        "id": "T1m6JBSpJM99",
        "colab": {
          "base_uri": "https://localhost:8080/"
        },
        "outputId": "6be8c5f2-6981-417e-b8d8-019e8fb4e79e"
      },
      "execution_count": 25,
      "outputs": [
        {
          "output_type": "stream",
          "name": "stdout",
          "text": [
            "Ingresa el número de palabras que vas a ingresar: 2\n",
            "Ingresa la palabra: asdasd\n",
            "Ingresa la palabra: UYTF\n",
            "Las palabras escritas en mayúscula son: \n",
            "['UYTF']\n",
            "Las palabras escritas en minúscula son: \n",
            "['asdasd']\n"
          ]
        }
      ]
    },
    {
      "cell_type": "code",
      "source": [
        "#Ejercicio 7 Karina manera tradicional\n",
        "def pali (word):\n",
        "  rev=word[::-1]\n",
        "  return word==rev\n",
        "word=(input(\"Ingresa una palabra: \")).lower()\n",
        "final=pali(word)\n",
        "if final==True:\n",
        "  print(f\"{word} es una palabra palíndromo\")\n",
        "else:\n",
        "  print(f\"{word} no es una palabra palíndromo\")"
      ],
      "metadata": {
        "colab": {
          "base_uri": "https://localhost:8080/"
        },
        "id": "iK8San-61uJX",
        "outputId": "4e06d19b-bfc9-43a0-b661-c8155eaa14ab"
      },
      "execution_count": 34,
      "outputs": [
        {
          "output_type": "stream",
          "name": "stdout",
          "text": [
            "Ingresa una palabra: yyft\n",
            "yyft no es una palabra palíndromo\n"
          ]
        }
      ]
    },
    {
      "cell_type": "code",
      "source": [
        "#lambda ejercicio 7\n",
        "c=int(input(\"Ingresa la cantidad de elementos que deseas: \"))\n",
        "lista1=[]\n",
        "for i in range(c):\n",
        "  word=input(\"Escribe aquí: \").lower()\n",
        "  lista1.append(word)\n",
        "print(lista1)\n",
        "lista2=list(map(lambda x:True if x==x[::-1] else False,lista1))\n",
        "lista2"
      ],
      "metadata": {
        "colab": {
          "base_uri": "https://localhost:8080/"
        },
        "id": "GpdNn6KK7Vy6",
        "outputId": "f80bd1f1-f587-4131-9f0f-0eae9a03d6bb"
      },
      "execution_count": 35,
      "outputs": [
        {
          "output_type": "stream",
          "name": "stdout",
          "text": [
            "Ingresa la cantidad de elementos que deseas: 2\n",
            "Escribe aquí: dsa\n",
            "Escribe aquí: aa\n",
            "['dsa', 'aa']\n"
          ]
        },
        {
          "output_type": "execute_result",
          "data": {
            "text/plain": [
              "[False, True]"
            ]
          },
          "metadata": {},
          "execution_count": 35
        }
      ]
    },
    {
      "cell_type": "code",
      "source": [
        "#Ejercicio 8 Manuel\n",
        "import random\n",
        "#Declaro la lista del inventario\n",
        "stock=['martillo','alicate','clavo','perno']\n",
        "#Declaro la lista que me dice si el objeto es de buena calidad o mala\n",
        "cality=['GOOD','FAIL']\n",
        "a=[]\n",
        "#Este for es para agregarle una calidad usando random\n",
        "for i in stock:\n",
        "  #La variablea guarda por ejemplo: martilloGOOD que significa que es de buena calidad\n",
        "  a.append((i, random.choice(cality)))\n",
        "#Defino las listas que me van a guardar cuáles elementos tienen buena calidad o no\n",
        "listg=[]\n",
        "listf=[]\n",
        "#Aquí guardo en cada lista los de la calidad y los malucos\n",
        "for x in a:\n",
        "  if 'GOOD' in x:\n",
        "    listg.append(x)\n",
        "    #Uso elif para ver mejor el funcionamiento\n",
        "  elif 'FAIL' in x:\n",
        "    listf.append(x)\n",
        "print(listf)\n",
        "print(listg)"
      ],
      "metadata": {
        "colab": {
          "base_uri": "https://localhost:8080/"
        },
        "id": "rQQmLd_K9iST",
        "outputId": "e28fc41e-627b-41cf-d90c-446ff51c25b6"
      },
      "execution_count": 49,
      "outputs": [
        {
          "output_type": "stream",
          "name": "stdout",
          "text": [
            "[('alicate', 'FAIL'), ('clavo', 'FAIL')]\n",
            "[('martillo', 'GOOD'), ('perno', 'GOOD')]\n"
          ]
        }
      ]
    },
    {
      "cell_type": "code",
      "source": [
        "#Por comprensión\n",
        "import random\n",
        "stock=['martillo','alicate','clavo','perno']\n",
        "cality=['GOOD','FAIL']\n",
        "a=[]\n",
        "for i in stock:\n",
        "  a.append((i,random.choice(cality)))\n",
        "listg=[]\n",
        "listf=[]\n",
        "listg=[x for x in a if 'GOOD' in x]\n",
        "listf=[x for x in a if 'FAIL' in x]\n",
        "print(listf,listg)"
      ],
      "metadata": {
        "colab": {
          "base_uri": "https://localhost:8080/"
        },
        "id": "onZqlAyo_61E",
        "outputId": "05c25d29-d034-46cd-a525-16e987041ce3"
      },
      "execution_count": 47,
      "outputs": [
        {
          "output_type": "stream",
          "name": "stdout",
          "text": [
            "[('martillo', 'FAIL'), ('clavo', 'FAIL')] [('alicate', 'GOOD'), ('perno', 'GOOD')]\n"
          ]
        }
      ]
    },
    {
      "cell_type": "code",
      "source": [
        "#\n",
        "import random\n",
        "stock=['martillo','alicate','clavo','perno']\n",
        "cality=['GOOD','FAIL']\n",
        "a=[]\n",
        "for i in stock:\n",
        "  a.append((i,random.choice(cality)))\n",
        "listg=[]\n",
        "listf=[]\n"
      ],
      "metadata": {
        "id": "1-ntjteUAjny"
      },
      "execution_count": 51,
      "outputs": []
    },
    {
      "cell_type": "code",
      "source": [
        "#Ejercicio 9 Paula\n",
        "def capitalizar(oracion):\n",
        "  lista1=[]\n",
        "  for l in n1:\n",
        "    lista1.append(l)\n",
        "    lista1[0]=n1[0].upper()\n",
        "  print(\"\".join(lista1))"
      ],
      "metadata": {
        "id": "b5JXr8nDGaHR"
      },
      "execution_count": 6,
      "outputs": []
    },
    {
      "cell_type": "code",
      "source": [
        "n1=input(\"Ingresa una oración: \")\n",
        "oracion=capitalizar(n1)\n",
        "oracion"
      ],
      "metadata": {
        "colab": {
          "base_uri": "https://localhost:8080/"
        },
        "id": "P9eDcdKRHbl9",
        "outputId": "c9b6e952-d29e-47e2-ab0b-6d2e08ed2641"
      },
      "execution_count": 7,
      "outputs": [
        {
          "output_type": "stream",
          "name": "stdout",
          "text": [
            "Ingresa una oración: holis aasa\n",
            "Holis aasa\n"
          ]
        }
      ]
    },
    {
      "cell_type": "code",
      "source": [
        "listap=[]\n",
        "n=input(\"Ingresa una oración: \")\n",
        "for l in n:\n",
        "  listap.append(l)\n",
        "  listap[0]=n[0].upper()\n",
        "print(\"\".join(listap))"
      ],
      "metadata": {
        "colab": {
          "base_uri": "https://localhost:8080/"
        },
        "id": "5kOD_QxWIteD",
        "outputId": "a7deae60-af1f-4c4f-ac56-9b0de233194e"
      },
      "execution_count": 11,
      "outputs": [
        {
          "output_type": "stream",
          "name": "stdout",
          "text": [
            "Ingresa una oración: a\n",
            "A\n"
          ]
        }
      ]
    },
    {
      "cell_type": "code",
      "source": [
        "n3=lambda x:x[0].upper()+x[1::]\n",
        "n=n3(n)\n",
        "n"
      ],
      "metadata": {
        "colab": {
          "base_uri": "https://localhost:8080/",
          "height": 35
        },
        "id": "xEps_3nzON7N",
        "outputId": "416e8e43-617d-4bbd-bb8b-a674ac98dff3"
      },
      "execution_count": 22,
      "outputs": [
        {
          "output_type": "execute_result",
          "data": {
            "text/plain": [
              "'A'"
            ],
            "application/vnd.google.colaboratory.intrinsic+json": {
              "type": "string"
            }
          },
          "metadata": {},
          "execution_count": 22
        }
      ]
    },
    {
      "cell_type": "code",
      "source": [
        "# Ejercicio francisco 10 Tradicional\n",
        "import random \n",
        "palabras=['a','e','i','o','u']\n",
        "numero=[1,2,3,4,5,6,7,8,9]\n",
        "generador=[]\n",
        "for i in range(0,5):\n",
        "  generador.append(random.choice(palabras))\n",
        "  generador.append(random.choice(numero))\n",
        "print(generador)"
      ],
      "metadata": {
        "colab": {
          "base_uri": "https://localhost:8080/"
        },
        "id": "vyNGulANLKrI",
        "outputId": "69fb3916-f3dc-4d13-a603-cabd998907af"
      },
      "execution_count": 16,
      "outputs": [
        {
          "output_type": "stream",
          "name": "stdout",
          "text": [
            "['u', 4, 'i', 5, 'i', 4, 'e', 6, 'e', 4]\n"
          ]
        }
      ]
    },
    {
      "cell_type": "code",
      "source": [
        "#Por comprensión\n",
        "import random\n",
        "x=input(\"Ingrese la palabra de la contraseña: \")\n",
        "palabras=[letra for letra in x]\n",
        "numeros2=[num for num in range(0,10)]\n",
        "generador=[random.choice(palabras) or random.choice(numeros2) for num in range(0,11)]\n",
        "print(generador)"
      ],
      "metadata": {
        "colab": {
          "base_uri": "https://localhost:8080/"
        },
        "id": "3BLtAakjJ-2Z",
        "outputId": "16385776-7591-4bbd-97fd-7757e3c9e1cb"
      },
      "execution_count": 15,
      "outputs": [
        {
          "output_type": "stream",
          "name": "stdout",
          "text": [
            "Ingrese la palabra de la contraseña: Pollo\n",
            "['P', 'o', 'l', 'o', 'l', 'l', 'l', 'l', 'P', 'o', 'o']\n"
          ]
        }
      ]
    },
    {
      "cell_type": "code",
      "source": [
        "#lambda\n",
        "x=input(\"Ingrese la palabra de la contraseña: \")\n",
        "palabras=[letra for letra in x]\n",
        "numeros2=[num for num in range(0,10)]\n",
        "generador2=[random.choice(list(map(lambda x:x, numeros2))) or random.choice(sorted(palabras, key=lambda letra: letra in palabras)) for num in range(0,11)]\n",
        "print(generador2)"
      ],
      "metadata": {
        "colab": {
          "base_uri": "https://localhost:8080/"
        },
        "id": "gAQFdz0WLy1f",
        "outputId": "43353977-728a-4a7b-a617-163162e61660"
      },
      "execution_count": 21,
      "outputs": [
        {
          "output_type": "stream",
          "name": "stdout",
          "text": [
            "Ingrese la palabra de la contraseña: ahihje\n",
            "[1, 'h', 3, 4, 4, 1, 8, 6, 1, 5, 4]\n"
          ]
        }
      ]
    },
    {
      "cell_type": "code",
      "source": [
        "#Ejercicio 11 Ana normal\n",
        "print(\"¡Hola! soy Lucía del sistema de asignación de turnos para pasaporte de la Gobernación \\n solo las personas mayores de edad tendrán su cita mañana en el rango de 6am a 12pm\\n y los menores de edad la tendrán en el rango de 2pm a 6pm\")\n",
        "lista1=[('pedro',33),('Ana',13),('Juan',13),('Carla',45)]\n",
        "lista2=[]\n",
        "lista3=[]\n",
        "for elemento in lista1:\n",
        "  if elemento[1]>=18:\n",
        "    lista2.append(elemento)\n",
        "print(f\"{lista2} tendrán la cita a las 8am y 10am respectivamente.\")\n",
        "\n",
        "for elemento in lista1:\n",
        "  if elemento[1]<18:\n",
        "    lista2.append(elemento)\n",
        "print(f\"{lista3} tendrán cita a las 2pm y 4pm respectivamente\")"
      ],
      "metadata": {
        "id": "Q0jIMyP3O2Jl"
      },
      "execution_count": null,
      "outputs": []
    },
    {
      "cell_type": "code",
      "source": [
        "#compresión\n",
        "print(\"¡Hola! Soy Lucía del sistema de asignación de turnos para pasaporte de la Gobernación \\n Solo las personas mayores de edad tendrán su cita mañana en el rango de 6am a 12 pm \\n y los menores de edad la tendrán en el rango de 2pm a 6pm \\n \" )\n",
        "personas=[('Pedro',33),('Ana',3),('Juan',13),('Carla',45)]\n",
        "\n",
        "\n",
        "personas_mayores=[per for per in personas if per[1]>=18]\n",
        "print(f'{personas_mayores} tendrán la cita a las 8am y 10am respectivamente')\n",
        "\n",
        "personas_menores=[per for per in personas if per[1]<18]\n",
        "print(f'{personas_menores} tendrán la cita a las 2pm y 4pm respectivamente')"
      ],
      "metadata": {
        "id": "l3sTEaZ2Q8Tb"
      },
      "execution_count": null,
      "outputs": []
    },
    {
      "cell_type": "code",
      "source": [
        "#lambda\n",
        "print(\"¡Hola! Soy Lucía del sistema de asignación de turnos para pasaporte de la Gobernación \\n Solo las personas mayores de edad tendrán su cita mañana en el rango de 6am a 12 pm \\n y los menores de edad la tendrán en el rango de 2pm a 6pm \\n \" )\n",
        "personas=[('Pedro',33),('Ana',3),('Juan',13),('Carla',45)]\n",
        "perma=list(filter(lambda may: may[1]>=18,personas ))\n",
        "perma\n",
        "print(f'{perma} tendrán la cita a las 8am y 10am respectivamente')\n",
        "\n",
        "perme=list(filter(lambda men: men[1]<18,personas ))\n",
        "perme\n",
        "print(f'{perme} tendrán la cita a las 2pm y 4pm respectivamente')"
      ],
      "metadata": {
        "id": "mUhf6NzVQ9Ac"
      },
      "execution_count": null,
      "outputs": []
    }
  ]
}