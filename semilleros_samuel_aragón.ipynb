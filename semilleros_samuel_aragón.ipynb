{
  "nbformat": 4,
  "nbformat_minor": 0,
  "metadata": {
    "colab": {
      "provenance": []
    },
    "kernelspec": {
      "name": "python3",
      "display_name": "Python 3"
    },
    "language_info": {
      "name": "python"
    }
  },
  "cells": [
    {
      "cell_type": "markdown",
      "source": [
        "#SEMILLEROS\n",
        "##1) Industria 4.0 y economía circular en el sector servicios\n",
        "\n",
        "###Integrantes:\n",
        "* Sebastián Ardila Cruz.\n",
        "* José David Cárdenas Canchón.\n",
        "* David Felipe Jurado Jurado.\n",
        "* Germán Camilo Mora Turizo.\n",
        "* Juan José Rubio Acevedo.\n",
        "* Sebastián Pineda.\n",
        "* Elmar Santiago Barrera Cantor.\n",
        "* Oscar Andrés Arenas Rojas.\n",
        "* Brandon Alberto Delgado Suárez.\n",
        "\n",
        "###Linea de acción:\n",
        "Sector servicios.\n",
        "\n",
        "###Resumen\n",
        "\n",
        ">El presente artículo expone una propuesta de investigación que tiene como objetivo establecer las estrategias a tener en cuenta por las empresas del sector servicios en Colombia, para que la implementación de la industria 4.0 y el modelo de la Economía Circular sean factores de desarrollo sostenible.\n",
        "Se formulan tres objetivos específicos que se ejecutarán por medio de la metodología PENTEX y la matrix MICMAC."
      ],
      "metadata": {
        "id": "qo-GEmVbTexE"
      }
    },
    {
      "cell_type": "markdown",
      "source": [
        "##2) Expansión de células madres mesenquimales en condiciones hipóxcas en medio no xenegénico suplementado con plasma pobre en plaquetas.\n",
        "\n",
        "###Integrantes:\n",
        "* A.J. Martínez Tello\n",
        "* M.A. Sarabia Quintero\n",
        "* B.J. Ortiz Glavis\n",
        "\n",
        "###Linea de acción:\n",
        "Medicina regenerativa\n",
        "\n",
        "###Resumen\n",
        "\n",
        ">La implementación de las células madre mesenquimales (MSC) ha tomado relevancia en el desarrollo de métodos para la regeneración de tejidos, permitiendo fabricar nuevas alternativas para la medicina regenerativa.Se ha evidenciado qué en algunos casos las condiciones del ambiente en el que se cultivan las células favorecen la muerte celular. Por lo que en el presente estudio se plantea la elaboración de cultivos in vitro con condiciones hipóxicas suplementado con plasma pobre en plaquetas que permite la expansión de la MSC, para posible aplicación de la medicina regenerativa.\n",
        "\n",
        "\n"
      ],
      "metadata": {
        "id": "4TQZSO88_Nej"
      }
    },
    {
      "cell_type": "markdown",
      "source": [
        "##3) Evaluación del ruido ambiental en el campus de la Universidad de Santander con un módulo electrónico de bajo costo en tiempo real.\n",
        "\n",
        "###Integrantes:\n",
        "* Mario Pineda\n",
        "* Paula Mendoza\n",
        "\n",
        "###Linea de acción:\n",
        "Calidad de aire y cambio climático\n",
        "\n",
        "###Resumen\n",
        "\n",
        ">Evaluar el ruido ambiental en el campus de la Universidad de Santander con un módulo electrónico de bajo costo en tiempo real.\n",
        "Los puntos de monitoreo de fueron escogidos tenían en cuenta las fuentes generadoras de ruido y, los niveles de presión sonora en el horario diurno tanten día hábil como festivo ,para todos los tres puntos de medición, presenta niveles aceptables al límite máximo permisible según la normativa."
      ],
      "metadata": {
        "id": "H-FA6iwRASLW"
      }
    },
    {
      "cell_type": "markdown",
      "source": [
        "##4) Solución al problema de ruteo de vehículos de flota heterogénea con trasbordo lateral mediante la metaheurística de algoritmo genérico.\n",
        "\n",
        "###Integrantes:\n",
        "* Javier Arias Osorio\n",
        "* Julio César Camacho pinto\n",
        "\n",
        "###Linea de acción:\n",
        "Gestión de cadena de datos suministrados y analítica de datos.\n",
        "\n",
        "###Resumen\n",
        "\n",
        ">En esta propuesta, se busca la investigar el modelo de problema de ruteo de vehículos de flota heterogénea \n",
        "(HFVRP) con transporte lateral mediante la meta heurística de algoritmo genético.\n",
        "La evaluación de los métodos usados durante la investigación serán evaluados con datos reales, considerando escenarios con diferente cantidad de clientes y vehículos disponibles"
      ],
      "metadata": {
        "id": "Jh0FX_NDBb0s"
      }
    },
    {
      "cell_type": "markdown",
      "source": [
        "##6) Solución al problema de ruteo de vehículos de flota heterogénea con trasbordo lateral mediante la metaheurística de algoritmo genérico.\n",
        "\n",
        "###Integrantes:\n",
        "* O. Rey Beltrán\n",
        "* M. Rueda García\n",
        "* B. Gómez Remolina\n",
        "* J. Lizcano Mendoza\n",
        "\n",
        "###Linea de acción:\n",
        "Recolección de datos morfológicos y registro de especies.\n",
        "\n",
        "###Resumen\n",
        "\n",
        ">Al finalizar en 2019 la fase 1 de ficheros de Biodiversidad urbana (FIBU) en la sexta convocatoria de semilleros de la USTA bucaramanga; el semillero FACARQ de la facultad de arquitectura, inicia la fase 2 con un paquete de ilustraciones digitales y plantillas de dibujo de la flora nativas del área metropolitana de bucaramanga para ser usados por estudiantes, arquitectos y planificadores urbanos como recurso didáctico en la identificación en la presentación gráfica de planos"
      ],
      "metadata": {
        "id": "FUNDFyLRCstU"
      }
    },
    {
      "cell_type": "markdown",
      "source": [
        "##7) Sistema de sincronía entre equipos de monitorieo de variables fisiológicas.\n",
        "\n",
        "###Integrantes:\n",
        "* Y.J. Angulo Gómez\n",
        "* P.A. Jiménez Garzón\n",
        "* V.J. Valzania Prada\n",
        "\n",
        "###Linea de acción:\n",
        "Neurociencias, economía y equipos biomédicos.\n",
        "\n",
        "###Resumen\n",
        "\n",
        ">Desarrollar un sistema de sincronización en equipos de monitoreo para la caracterización de variables fisiológicas mediante el software de MATLAB.\n",
        "Se realizará la identificación funcionamiento, procesamiento de señales y manejo de los equipos biomédicos (electrocardiografía y electroencefalografía), para analizar las variables fisiológicas. \n",
        "A su vez, se investigará la extracción de los datos para la unión de estos a través de MATLAB."
      ],
      "metadata": {
        "id": "mbpCQcKhDgTN"
      }
    }
  ]
}